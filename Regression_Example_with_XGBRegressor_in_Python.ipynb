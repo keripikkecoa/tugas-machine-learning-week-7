{
  "nbformat": 4,
  "nbformat_minor": 0,
  "metadata": {
    "colab": {
      "name": "Regression Example with XGBRegressor in Python.ipynb",
      "provenance": [],
      "authorship_tag": "ABX9TyPWkKj+ABoOLeqNLdtuoIIe",
      "include_colab_link": true
    },
    "kernelspec": {
      "name": "python3",
      "display_name": "Python 3"
    },
    "language_info": {
      "name": "python"
    }
  },
  "cells": [
    {
      "cell_type": "markdown",
      "metadata": {
        "id": "view-in-github",
        "colab_type": "text"
      },
      "source": [
        "<a href=\"https://colab.research.google.com/github/keripikkecoa/tugas-machine-learning-week-7/blob/main/Regression_Example_with_XGBRegressor_in_Python.ipynb\" target=\"_parent\"><img src=\"https://colab.research.google.com/assets/colab-badge.svg\" alt=\"Open In Colab\"/></a>"
      ]
    },
    {
      "cell_type": "markdown",
      "metadata": {
        "id": "kEVwxwlCZ2n8"
      },
      "source": [
        "Regression Example with XGBRegressor in Python"
      ]
    },
    {
      "cell_type": "code",
      "metadata": {
        "id": "Y9tfc81YZsHM"
      },
      "source": [
        "import xgboost as xgb\n",
        "from xgboost import XGBRegressor\n",
        "from sklearn.datasets import load_boston\n",
        "from sklearn.model_selection import train_test_split\n",
        "from sklearn.model_selection import cross_val_score, KFold\n",
        "from sklearn.metrics import mean_squared_error\n",
        "import matplotlib.pyplot as plt "
      ],
      "execution_count": 1,
      "outputs": []
    },
    {
      "cell_type": "markdown",
      "metadata": {
        "id": "g-06oNCaaDXJ"
      },
      "source": [
        "Preparing data\n"
      ]
    },
    {
      "cell_type": "code",
      "metadata": {
        "id": "CxuOZ8MuaKlo"
      },
      "source": [
        "boston = load_boston()\n",
        "x, y = boston.data, boston.target\n",
        "xtrain, xtest, ytrain, ytest=train_test_split(x, y, test_size=0.15)\n"
      ],
      "execution_count": 2,
      "outputs": []
    },
    {
      "cell_type": "markdown",
      "metadata": {
        "id": "4tt87XTtaOOp"
      },
      "source": [
        "Defining and fitting the model"
      ]
    },
    {
      "cell_type": "code",
      "metadata": {
        "colab": {
          "base_uri": "https://localhost:8080/"
        },
        "id": "oYPgjRZPaOx2",
        "outputId": "8bd8b912-1b0c-4de6-a80f-72bb569e4e83"
      },
      "source": [
        "xgbr = xgb.XGBRegressor(verbosity=0) \n",
        "print(xgbr)\n"
      ],
      "execution_count": 3,
      "outputs": [
        {
          "output_type": "stream",
          "name": "stdout",
          "text": [
            "XGBRegressor(base_score=0.5, booster='gbtree', colsample_bylevel=1,\n",
            "             colsample_bynode=1, colsample_bytree=1, gamma=0,\n",
            "             importance_type='gain', learning_rate=0.1, max_delta_step=0,\n",
            "             max_depth=3, min_child_weight=1, missing=None, n_estimators=100,\n",
            "             n_jobs=1, nthread=None, objective='reg:linear', random_state=0,\n",
            "             reg_alpha=0, reg_lambda=1, scale_pos_weight=1, seed=None,\n",
            "             silent=None, subsample=1, verbosity=0)\n"
          ]
        }
      ]
    },
    {
      "cell_type": "markdown",
      "metadata": {
        "id": "erN9nYAUaTVZ"
      },
      "source": [
        "fit the model"
      ]
    },
    {
      "cell_type": "code",
      "metadata": {
        "colab": {
          "base_uri": "https://localhost:8080/"
        },
        "id": "ep7ktP0laUN3",
        "outputId": "ce5af172-f74b-4073-d6a5-bc83c57bb2f0"
      },
      "source": [
        "xgbr.fit(xtrain, ytrain)\n"
      ],
      "execution_count": 4,
      "outputs": [
        {
          "output_type": "execute_result",
          "data": {
            "text/plain": [
              "XGBRegressor(base_score=0.5, booster='gbtree', colsample_bylevel=1,\n",
              "             colsample_bynode=1, colsample_bytree=1, gamma=0,\n",
              "             importance_type='gain', learning_rate=0.1, max_delta_step=0,\n",
              "             max_depth=3, min_child_weight=1, missing=None, n_estimators=100,\n",
              "             n_jobs=1, nthread=None, objective='reg:linear', random_state=0,\n",
              "             reg_alpha=0, reg_lambda=1, scale_pos_weight=1, seed=None,\n",
              "             silent=None, subsample=1, verbosity=0)"
            ]
          },
          "metadata": {},
          "execution_count": 4
        }
      ]
    },
    {
      "cell_type": "markdown",
      "metadata": {
        "id": "rtqB0-tzaYl9"
      },
      "source": [
        "Predicting and checking the results"
      ]
    },
    {
      "cell_type": "code",
      "metadata": {
        "colab": {
          "base_uri": "https://localhost:8080/"
        },
        "id": "GmzyhGa6aZLU",
        "outputId": "ad1ee7e9-63a5-459b-fbfa-3ac5f333370c"
      },
      "source": [
        "score = xgbr.score(xtrain, ytrain)  \n",
        "print(\"Training score: \", score)\n",
        "\n"
      ],
      "execution_count": 5,
      "outputs": [
        {
          "output_type": "stream",
          "name": "stdout",
          "text": [
            "Training score:  0.9742632139636265\n"
          ]
        }
      ]
    },
    {
      "cell_type": "code",
      "metadata": {
        "colab": {
          "base_uri": "https://localhost:8080/"
        },
        "id": "oT2G19Rzaa_f",
        "outputId": "831536d8-df7e-4540-d551-f74b9a2c5ebd"
      },
      "source": [
        "scores = cross_val_score(xgbr, xtrain, ytrain,cv=10)\n",
        "print(\"Mean cross-validation score: %.2f\" % scores.mean())\n"
      ],
      "execution_count": 6,
      "outputs": [
        {
          "output_type": "stream",
          "name": "stdout",
          "text": [
            "Mean cross-validation score: 0.90\n"
          ]
        }
      ]
    },
    {
      "cell_type": "code",
      "metadata": {
        "colab": {
          "base_uri": "https://localhost:8080/"
        },
        "id": "GiU_EEtaace5",
        "outputId": "00fbcc7c-277f-4965-cbbc-4af090d763d0"
      },
      "source": [
        "kfold = KFold(n_splits=10, shuffle=True)\n",
        "kf_cv_scores = cross_val_score(xgbr, xtrain, ytrain, cv=kfold )\n",
        "print(\"K-fold CV average score: %.2f\" % kf_cv_scores.mean())\n"
      ],
      "execution_count": 7,
      "outputs": [
        {
          "output_type": "stream",
          "name": "stdout",
          "text": [
            "K-fold CV average score: 0.89\n"
          ]
        }
      ]
    },
    {
      "cell_type": "code",
      "metadata": {
        "colab": {
          "base_uri": "https://localhost:8080/"
        },
        "id": "bIfpnDapafVM",
        "outputId": "ac40c5fa-0867-46ba-cd13-704022f193d8"
      },
      "source": [
        "ypred = xgbr.predict(xtest)\n",
        "mse = mean_squared_error(ytest, ypred)\n",
        "print(\"MSE: %.2f\" % mse)\n",
        "print(\"RMSE: %.2f\" % (mse**(1/2.0)))"
      ],
      "execution_count": 8,
      "outputs": [
        {
          "output_type": "stream",
          "name": "stdout",
          "text": [
            "MSE: 14.24\n",
            "RMSE: 3.77\n"
          ]
        }
      ]
    },
    {
      "cell_type": "code",
      "metadata": {
        "colab": {
          "base_uri": "https://localhost:8080/",
          "height": 281
        },
        "id": "f8QdxxSxafqo",
        "outputId": "48db5732-f1ed-48cf-effe-005bfbdcd6ce"
      },
      "source": [
        "x_ax = range(len(ytest))\n",
        "plt.plot(x_ax, ytest, label=\"original\")\n",
        "plt.plot(x_ax, ypred, label=\"predicted\")\n",
        "plt.title(\"Boston test and predicted data\")\n",
        "plt.legend()\n",
        "plt.show()\n"
      ],
      "execution_count": 9,
      "outputs": [
        {
          "output_type": "display_data",
          "data": {
            "image/png": "[encoded data removed]",
            "text/plain": [
              "<Figure size 432x288 with 1 Axes>"
            ]
          },
          "metadata": {
            "needs_background": "light"
          }
        }
      ]
    }
  ]
}